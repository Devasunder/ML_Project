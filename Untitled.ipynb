{
 "cells": [
  {
   "cell_type": "markdown",
   "id": "b9f31f76",
   "metadata": {},
   "source": [
    "<h1><center>19CSE305 Machine Learning</center></h1>"
   ]
  },
  {
   "cell_type": "markdown",
   "id": "616d6cd5",
   "metadata": {},
   "source": [
    "<h2><center>Title: Predict Ads Click</center>"
   ]
  },
  {
   "cell_type": "code",
   "execution_count": 5,
   "id": "2c41595e",
   "metadata": {},
   "outputs": [],
   "source": [
    "import pandas as pd\n",
    "import matplotlib.pyplot as plt"
   ]
  },
  {
   "cell_type": "markdown",
   "id": "1141057b",
   "metadata": {},
   "source": [
    "## Reading the CSV file"
   ]
  },
  {
   "cell_type": "code",
   "execution_count": 2,
   "id": "f6fa12cb",
   "metadata": {},
   "outputs": [],
   "source": [
    "s=pd.read_csv('advertising.csv')"
   ]
  },
  {
   "cell_type": "code",
   "execution_count": 3,
   "id": "287f7efe",
   "metadata": {
    "scrolled": true
   },
   "outputs": [
    {
     "data": {
      "text/html": [
       "<div>\n",
       "<style scoped>\n",
       "    .dataframe tbody tr th:only-of-type {\n",
       "        vertical-align: middle;\n",
       "    }\n",
       "\n",
       "    .dataframe tbody tr th {\n",
       "        vertical-align: top;\n",
       "    }\n",
       "\n",
       "    .dataframe thead th {\n",
       "        text-align: right;\n",
       "    }\n",
       "</style>\n",
       "<table border=\"1\" class=\"dataframe\">\n",
       "  <thead>\n",
       "    <tr style=\"text-align: right;\">\n",
       "      <th></th>\n",
       "      <th>Daily Time Spent on Site</th>\n",
       "      <th>Age</th>\n",
       "      <th>Area Income</th>\n",
       "      <th>Daily Internet Usage</th>\n",
       "      <th>Ad Topic Line</th>\n",
       "      <th>City</th>\n",
       "      <th>Male</th>\n",
       "      <th>Country</th>\n",
       "      <th>Timestamp</th>\n",
       "      <th>Clicked on Ad</th>\n",
       "    </tr>\n",
       "  </thead>\n",
       "  <tbody>\n",
       "    <tr>\n",
       "      <th>0</th>\n",
       "      <td>68.95</td>\n",
       "      <td>35</td>\n",
       "      <td>61833.90</td>\n",
       "      <td>256.09</td>\n",
       "      <td>Cloned 5thgeneration orchestration</td>\n",
       "      <td>Wrightburgh</td>\n",
       "      <td>0</td>\n",
       "      <td>Tunisia</td>\n",
       "      <td>2016-03-27 00:53:11</td>\n",
       "      <td>0</td>\n",
       "    </tr>\n",
       "    <tr>\n",
       "      <th>1</th>\n",
       "      <td>80.23</td>\n",
       "      <td>31</td>\n",
       "      <td>68441.85</td>\n",
       "      <td>193.77</td>\n",
       "      <td>Monitored national standardization</td>\n",
       "      <td>West Jodi</td>\n",
       "      <td>1</td>\n",
       "      <td>Nauru</td>\n",
       "      <td>2016-04-04 01:39:02</td>\n",
       "      <td>0</td>\n",
       "    </tr>\n",
       "    <tr>\n",
       "      <th>2</th>\n",
       "      <td>69.47</td>\n",
       "      <td>26</td>\n",
       "      <td>59785.94</td>\n",
       "      <td>236.50</td>\n",
       "      <td>Organic bottom-line service-desk</td>\n",
       "      <td>Davidton</td>\n",
       "      <td>0</td>\n",
       "      <td>San Marino</td>\n",
       "      <td>2016-03-13 20:35:42</td>\n",
       "      <td>0</td>\n",
       "    </tr>\n",
       "    <tr>\n",
       "      <th>3</th>\n",
       "      <td>74.15</td>\n",
       "      <td>29</td>\n",
       "      <td>54806.18</td>\n",
       "      <td>245.89</td>\n",
       "      <td>Triple-buffered reciprocal time-frame</td>\n",
       "      <td>West Terrifurt</td>\n",
       "      <td>1</td>\n",
       "      <td>Italy</td>\n",
       "      <td>2016-01-10 02:31:19</td>\n",
       "      <td>0</td>\n",
       "    </tr>\n",
       "    <tr>\n",
       "      <th>4</th>\n",
       "      <td>68.37</td>\n",
       "      <td>35</td>\n",
       "      <td>73889.99</td>\n",
       "      <td>225.58</td>\n",
       "      <td>Robust logistical utilization</td>\n",
       "      <td>South Manuel</td>\n",
       "      <td>0</td>\n",
       "      <td>Iceland</td>\n",
       "      <td>2016-06-03 03:36:18</td>\n",
       "      <td>0</td>\n",
       "    </tr>\n",
       "    <tr>\n",
       "      <th>...</th>\n",
       "      <td>...</td>\n",
       "      <td>...</td>\n",
       "      <td>...</td>\n",
       "      <td>...</td>\n",
       "      <td>...</td>\n",
       "      <td>...</td>\n",
       "      <td>...</td>\n",
       "      <td>...</td>\n",
       "      <td>...</td>\n",
       "      <td>...</td>\n",
       "    </tr>\n",
       "    <tr>\n",
       "      <th>995</th>\n",
       "      <td>72.97</td>\n",
       "      <td>30</td>\n",
       "      <td>71384.57</td>\n",
       "      <td>208.58</td>\n",
       "      <td>Fundamental modular algorithm</td>\n",
       "      <td>Duffystad</td>\n",
       "      <td>1</td>\n",
       "      <td>Lebanon</td>\n",
       "      <td>2016-02-11 21:49:00</td>\n",
       "      <td>1</td>\n",
       "    </tr>\n",
       "    <tr>\n",
       "      <th>996</th>\n",
       "      <td>51.30</td>\n",
       "      <td>45</td>\n",
       "      <td>67782.17</td>\n",
       "      <td>134.42</td>\n",
       "      <td>Grass-roots cohesive monitoring</td>\n",
       "      <td>New Darlene</td>\n",
       "      <td>1</td>\n",
       "      <td>Bosnia and Herzegovina</td>\n",
       "      <td>2016-04-22 02:07:01</td>\n",
       "      <td>1</td>\n",
       "    </tr>\n",
       "    <tr>\n",
       "      <th>997</th>\n",
       "      <td>51.63</td>\n",
       "      <td>51</td>\n",
       "      <td>42415.72</td>\n",
       "      <td>120.37</td>\n",
       "      <td>Expanded intangible solution</td>\n",
       "      <td>South Jessica</td>\n",
       "      <td>1</td>\n",
       "      <td>Mongolia</td>\n",
       "      <td>2016-02-01 17:24:57</td>\n",
       "      <td>1</td>\n",
       "    </tr>\n",
       "    <tr>\n",
       "      <th>998</th>\n",
       "      <td>55.55</td>\n",
       "      <td>19</td>\n",
       "      <td>41920.79</td>\n",
       "      <td>187.95</td>\n",
       "      <td>Proactive bandwidth-monitored policy</td>\n",
       "      <td>West Steven</td>\n",
       "      <td>0</td>\n",
       "      <td>Guatemala</td>\n",
       "      <td>2016-03-24 02:35:54</td>\n",
       "      <td>0</td>\n",
       "    </tr>\n",
       "    <tr>\n",
       "      <th>999</th>\n",
       "      <td>45.01</td>\n",
       "      <td>26</td>\n",
       "      <td>29875.80</td>\n",
       "      <td>178.35</td>\n",
       "      <td>Virtual 5thgeneration emulation</td>\n",
       "      <td>Ronniemouth</td>\n",
       "      <td>0</td>\n",
       "      <td>Brazil</td>\n",
       "      <td>2016-06-03 21:43:21</td>\n",
       "      <td>1</td>\n",
       "    </tr>\n",
       "  </tbody>\n",
       "</table>\n",
       "<p>1000 rows × 10 columns</p>\n",
       "</div>"
      ],
      "text/plain": [
       "     Daily Time Spent on Site  Age  Area Income  Daily Internet Usage  \\\n",
       "0                       68.95   35     61833.90                256.09   \n",
       "1                       80.23   31     68441.85                193.77   \n",
       "2                       69.47   26     59785.94                236.50   \n",
       "3                       74.15   29     54806.18                245.89   \n",
       "4                       68.37   35     73889.99                225.58   \n",
       "..                        ...  ...          ...                   ...   \n",
       "995                     72.97   30     71384.57                208.58   \n",
       "996                     51.30   45     67782.17                134.42   \n",
       "997                     51.63   51     42415.72                120.37   \n",
       "998                     55.55   19     41920.79                187.95   \n",
       "999                     45.01   26     29875.80                178.35   \n",
       "\n",
       "                             Ad Topic Line            City  Male  \\\n",
       "0       Cloned 5thgeneration orchestration     Wrightburgh     0   \n",
       "1       Monitored national standardization       West Jodi     1   \n",
       "2         Organic bottom-line service-desk        Davidton     0   \n",
       "3    Triple-buffered reciprocal time-frame  West Terrifurt     1   \n",
       "4            Robust logistical utilization    South Manuel     0   \n",
       "..                                     ...             ...   ...   \n",
       "995          Fundamental modular algorithm       Duffystad     1   \n",
       "996        Grass-roots cohesive monitoring     New Darlene     1   \n",
       "997           Expanded intangible solution   South Jessica     1   \n",
       "998   Proactive bandwidth-monitored policy     West Steven     0   \n",
       "999        Virtual 5thgeneration emulation     Ronniemouth     0   \n",
       "\n",
       "                    Country            Timestamp  Clicked on Ad  \n",
       "0                   Tunisia  2016-03-27 00:53:11              0  \n",
       "1                     Nauru  2016-04-04 01:39:02              0  \n",
       "2                San Marino  2016-03-13 20:35:42              0  \n",
       "3                     Italy  2016-01-10 02:31:19              0  \n",
       "4                   Iceland  2016-06-03 03:36:18              0  \n",
       "..                      ...                  ...            ...  \n",
       "995                 Lebanon  2016-02-11 21:49:00              1  \n",
       "996  Bosnia and Herzegovina  2016-04-22 02:07:01              1  \n",
       "997                Mongolia  2016-02-01 17:24:57              1  \n",
       "998               Guatemala  2016-03-24 02:35:54              0  \n",
       "999                  Brazil  2016-06-03 21:43:21              1  \n",
       "\n",
       "[1000 rows x 10 columns]"
      ]
     },
     "execution_count": 3,
     "metadata": {},
     "output_type": "execute_result"
    }
   ],
   "source": [
    "s"
   ]
  },
  {
   "cell_type": "markdown",
   "id": "8e65a5df",
   "metadata": {},
   "source": [
    "## Checking for missing data"
   ]
  },
  {
   "cell_type": "code",
   "execution_count": 4,
   "id": "9a2399a7",
   "metadata": {},
   "outputs": [
    {
     "data": {
      "text/plain": [
       "Daily Time Spent on Site    0\n",
       "Age                         0\n",
       "Area Income                 0\n",
       "Daily Internet Usage        0\n",
       "Ad Topic Line               0\n",
       "City                        0\n",
       "Male                        0\n",
       "Country                     0\n",
       "Timestamp                   0\n",
       "Clicked on Ad               0\n",
       "dtype: int64"
      ]
     },
     "execution_count": 4,
     "metadata": {},
     "output_type": "execute_result"
    }
   ],
   "source": [
    "s.isnull().sum()"
   ]
  },
  {
   "cell_type": "code",
   "execution_count": 18,
   "id": "5dfe9db2",
   "metadata": {},
   "outputs": [
    {
     "data": {
      "text/plain": [
       "{'whiskers': [<matplotlib.lines.Line2D at 0x2358b902e20>,\n",
       "  <matplotlib.lines.Line2D at 0x2358b902d90>,\n",
       "  <matplotlib.lines.Line2D at 0x2358b55c370>,\n",
       "  <matplotlib.lines.Line2D at 0x2358b55cf40>,\n",
       "  <matplotlib.lines.Line2D at 0x2358b5510d0>,\n",
       "  <matplotlib.lines.Line2D at 0x2358b5513a0>],\n",
       " 'caps': [<matplotlib.lines.Line2D at 0x2358b543790>,\n",
       "  <matplotlib.lines.Line2D at 0x2358b3eca30>,\n",
       "  <matplotlib.lines.Line2D at 0x2358b55cd90>,\n",
       "  <matplotlib.lines.Line2D at 0x2358b55cc10>,\n",
       "  <matplotlib.lines.Line2D at 0x2358b54e460>,\n",
       "  <matplotlib.lines.Line2D at 0x2358b54e5e0>],\n",
       " 'boxes': [<matplotlib.lines.Line2D at 0x2358b5a2e20>,\n",
       "  <matplotlib.lines.Line2D at 0x2358b55fdf0>,\n",
       "  <matplotlib.lines.Line2D at 0x2358b551760>],\n",
       " 'medians': [<matplotlib.lines.Line2D at 0x2358b55f850>,\n",
       "  <matplotlib.lines.Line2D at 0x2358b551af0>,\n",
       "  <matplotlib.lines.Line2D at 0x2358b54e2e0>],\n",
       " 'fliers': [<matplotlib.lines.Line2D at 0x2358b55fca0>,\n",
       "  <matplotlib.lines.Line2D at 0x2358b551a60>,\n",
       "  <matplotlib.lines.Line2D at 0x2358b54eb80>],\n",
       " 'means': []}"
      ]
     },
     "execution_count": 18,
     "metadata": {},
     "output_type": "execute_result"
    },
    {
     "data": {
      "image/png": "[encoded data removed]",
      "text/plain": [
       "<Figure size 432x288 with 1 Axes>"
      ]
     },
     "metadata": {
      "needs_background": "light"
     },
     "output_type": "display_data"
    }
   ],
   "source": []
  },
  {
   "cell_type": "code",
   "execution_count": null,
   "id": "2d61b82c",
   "metadata": {},
   "outputs": [],
   "source": []
  }
 ],
 "metadata": {
  "kernelspec": {
   "display_name": "Python 3 (ipykernel)",
   "language": "python",
   "name": "python3"
  },
  "language_info": {
   "codemirror_mode": {
    "name": "ipython",
    "version": 3
   },
   "file_extension": ".py",
   "mimetype": "text/x-python",
   "name": "python",
   "nbconvert_exporter": "python",
   "pygments_lexer": "ipython3",
   "version": "3.9.12"
  }
 },
 "nbformat": 4,
 "nbformat_minor": 5
}
